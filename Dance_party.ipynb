{
 "cells": [
  {
   "cell_type": "markdown",
   "metadata": {},
   "source": [
    "# Sampling Distributions Dance Party!\n",
    "\n",
    "Get your dancing shoes ready! You are a DJ trying to make sure you are ready for a big party. You don’t have time to go through all the songs you can work with. Instead, you want to make sure that any sample of 30 songs from your playlist will get the party started. To do this, you will use the power of sampling distributions!"
   ]
  },
  {
   "cell_type": "code",
   "execution_count": 1,
   "metadata": {},
   "outputs": [],
   "source": [
    "import numpy as np\n",
    "import pandas as pd\n",
    "import matplotlib.pyplot as plt\n",
    "from scipy import stats\n",
    "import seaborn as sns\n",
    "from helper_functions import choose_statistic, population_distribution, sampling_distribution"
   ]
  },
  {
   "cell_type": "markdown",
   "metadata": {},
   "source": [
    "### Loading in the Data"
   ]
  },
  {
   "cell_type": "markdown",
   "metadata": {},
   "source": [
    "1. You will be working with a dataset called spotify_data.csv. In script.py, use the read_csv() pandas function to load in spotify_data.csv into a variable called spotify_data."
   ]
  },
  {
   "cell_type": "code",
   "execution_count": 2,
   "metadata": {},
   "outputs": [],
   "source": [
    "spotify_data = pd.read_csv(\"spotify_data.csv\")"
   ]
  },
  {
   "cell_type": "markdown",
   "metadata": {},
   "source": [
    "2. Use the pandas .head() function to preview the spotify_data. If you need a reminder of how to use this function, click the hint below."
   ]
  },
  {
   "cell_type": "code",
   "execution_count": 3,
   "metadata": {},
   "outputs": [
    {
     "data": {
      "text/html": [
       "<div>\n",
       "<style scoped>\n",
       "    .dataframe tbody tr th:only-of-type {\n",
       "        vertical-align: middle;\n",
       "    }\n",
       "\n",
       "    .dataframe tbody tr th {\n",
       "        vertical-align: top;\n",
       "    }\n",
       "\n",
       "    .dataframe thead th {\n",
       "        text-align: right;\n",
       "    }\n",
       "</style>\n",
       "<table border=\"1\" class=\"dataframe\">\n",
       "  <thead>\n",
       "    <tr style=\"text-align: right;\">\n",
       "      <th></th>\n",
       "      <th>tempo</th>\n",
       "      <th>danceability</th>\n",
       "      <th>energy</th>\n",
       "      <th>instrumentalness</th>\n",
       "      <th>liveness</th>\n",
       "      <th>valence</th>\n",
       "    </tr>\n",
       "  </thead>\n",
       "  <tbody>\n",
       "    <tr>\n",
       "      <th>0</th>\n",
       "      <td>156.985</td>\n",
       "      <td>0.831</td>\n",
       "      <td>0.814</td>\n",
       "      <td>0.013400</td>\n",
       "      <td>0.0556</td>\n",
       "      <td>0.3890</td>\n",
       "    </tr>\n",
       "    <tr>\n",
       "      <th>1</th>\n",
       "      <td>115.080</td>\n",
       "      <td>0.719</td>\n",
       "      <td>0.493</td>\n",
       "      <td>0.000000</td>\n",
       "      <td>0.1180</td>\n",
       "      <td>0.1240</td>\n",
       "    </tr>\n",
       "    <tr>\n",
       "      <th>2</th>\n",
       "      <td>218.050</td>\n",
       "      <td>0.850</td>\n",
       "      <td>0.893</td>\n",
       "      <td>0.000004</td>\n",
       "      <td>0.3720</td>\n",
       "      <td>0.0391</td>\n",
       "    </tr>\n",
       "    <tr>\n",
       "      <th>3</th>\n",
       "      <td>186.948</td>\n",
       "      <td>0.476</td>\n",
       "      <td>0.781</td>\n",
       "      <td>0.000000</td>\n",
       "      <td>0.1140</td>\n",
       "      <td>0.1750</td>\n",
       "    </tr>\n",
       "    <tr>\n",
       "      <th>4</th>\n",
       "      <td>147.988</td>\n",
       "      <td>0.798</td>\n",
       "      <td>0.624</td>\n",
       "      <td>0.000000</td>\n",
       "      <td>0.1660</td>\n",
       "      <td>0.5910</td>\n",
       "    </tr>\n",
       "  </tbody>\n",
       "</table>\n",
       "</div>"
      ],
      "text/plain": [
       "     tempo  danceability  energy  instrumentalness  liveness  valence\n",
       "0  156.985         0.831   0.814          0.013400    0.0556   0.3890\n",
       "1  115.080         0.719   0.493          0.000000    0.1180   0.1240\n",
       "2  218.050         0.850   0.893          0.000004    0.3720   0.0391\n",
       "3  186.948         0.476   0.781          0.000000    0.1140   0.1750\n",
       "4  147.988         0.798   0.624          0.000000    0.1660   0.5910"
      ]
     },
     "execution_count": 3,
     "metadata": {},
     "output_type": "execute_result"
    }
   ],
   "source": [
    "spotify_data.head()"
   ]
  },
  {
   "cell_type": "markdown",
   "metadata": {},
   "source": [
    "3. For this project, we are going to focus on the tempo variable. This column gives the beats per minute (bpm) of each song in spotify.csv. The other columns in our dataset are:\n",
    "\n",
    "- danceability\n",
    "- energy\n",
    "- instrumentalness\n",
    "- liveness\n",
    "- valences\n",
    "\n",
    "    For now, we are going to ignore these other columns.\n",
    "\n",
    "    Create a variable called song_tempos that contains the tempo column data."
   ]
  },
  {
   "cell_type": "code",
   "execution_count": 4,
   "metadata": {},
   "outputs": [],
   "source": [
    "song_tempos = spotify_data['tempo']"
   ]
  },
  {
   "cell_type": "markdown",
   "metadata": {},
   "source": [
    "### Helper Functions\n",
    "\n",
    "4. Let’s investigate the helper functions we will use in the following sections. A file called helper_functions.py should be opened in the workspace for you. It contains three functions: choose_statistic(), population_distribution(), and sampling_distribution(). The code in these functions is similar to what we saw in the previous lesson, but let’s explore these together.\n",
    "\n",
    "    `choose_statistic()` allows us to choose a statistic we want to calculate for our sampling and population distributions. It contains two parameters:\n",
    "\n",
    "- x: An array of numbers\n",
    "\n",
    "- sample_stat_text: A string that tells the function which statistic to calculate on x. It takes on three values: “Mean”, “Minimum”, or “Variance”.\n",
    "\n",
    "    `population_distribution()` allows us to plot the population distribution of a dataframe with one function call. It takes the following parameter:\n",
    "\n",
    "- `population_data`: the dataframe being passed into the function\n",
    "\n",
    "    `sampling_distribution()` allows us to plot a simulated sampling distribution of a statistic. The simulated sampling distribution is created by taking random samples of some size, calculating a particular statistic, and plotting a histogram of those sample statistics. It contains three parameters:\n",
    "\n",
    "- `population_data`: the dataframe being sampled from\n",
    "- `samp_size`: the size of each sample\n",
    "- `stat`: the specific statistic being measured for each sample — either “Mean”, “Minimum”, or “Variance”"
   ]
  },
  {
   "cell_type": "markdown",
   "metadata": {},
   "source": [
    "### Sampling Distribution Exploration\n",
    "\n",
    "5. Now that our data is loaded into script.py and we have gone over the functions in helper_functions.py let’s start our sampling distributions exploration. Make sure to write your code in script.py.\n",
    "\n",
    "    To start off, let’s use the population_distribution() function to graph distribution of song_tempos.\n",
    "\n",
    "    When you click run, you should see a graph with the following title:"
   ]
  },
  {
   "cell_type": "code",
   "execution_count": 5,
   "metadata": {},
   "outputs": [
    {
     "data": {
      "image/png": "[encoded data removed]",
      "text/plain": [
       "<Figure size 432x288 with 1 Axes>"
      ]
     },
     "metadata": {
      "needs_background": "light"
     },
     "output_type": "display_data"
    },
    {
     "data": {
      "text/plain": [
       "<Figure size 432x288 with 0 Axes>"
      ]
     },
     "metadata": {},
     "output_type": "display_data"
    }
   ],
   "source": [
    "population_distribution(song_tempos)"
   ]
  },
  {
   "cell_type": "markdown",
   "metadata": {},
   "source": [
    "6. Now let’s plot the sampling distribution of the sample mean with sample sizes of 30 songs. To do this, use the sampling_distribution() helper function.\n",
    "\n",
    "    Once you hit run, you should see a graph with the following title:\n",
    "\n",
    "    `Sampling Distribution of the Mean`\n",
    "    \n",
    "    `Mean of the Sample Means: {Mean of the Sample Means}`\n",
    "    \n",
    "    `Population Mean: {Population Mean}`"
   ]
  },
  {
   "cell_type": "code",
   "execution_count": 6,
   "metadata": {},
   "outputs": [
    {
     "data": {
      "image/png": "[encoded data removed]",
      "text/plain": [
       "<Figure size 432x288 with 1 Axes>"
      ]
     },
     "metadata": {
      "needs_background": "light"
     },
     "output_type": "display_data"
    },
    {
     "data": {
      "text/plain": [
       "<Figure size 432x288 with 0 Axes>"
      ]
     },
     "metadata": {},
     "output_type": "display_data"
    }
   ],
   "source": [
    "# task 6: sampling distribution of the sample mean\n",
    "sampling_distribution(song_tempos, 30, \"Mean\")"
   ]
  },
  {
   "cell_type": "markdown",
   "metadata": {},
   "source": [
    "7. Compare your sampling distribution of the sample means to the population mean. Is the sample mean an unbiased or biased estimator of the population?"
   ]
  },
  {
   "cell_type": "markdown",
   "metadata": {},
   "source": [
    "8. Now let’s plot the sampling distribution of the sample minimum with sample sizes of 30 songs. To do this, use the sampling_distribution() helper function.\n",
    "\n",
    "    Once you hit run, you should see a graph with the following title:\n",
    "\n",
    "    `Sampling Distribution of the Minimum`\n",
    "    \n",
    "    `Mean of the Sample Minimums: {Mean of the Sample Minimums}`\n",
    "    \n",
    "    `Population Mean: {Population Mean}`"
   ]
  },
  {
   "cell_type": "code",
   "execution_count": 7,
   "metadata": {},
   "outputs": [
    {
     "data": {
      "image/png": "[encoded data removed]",
      "text/plain": [
       "<Figure size 432x288 with 1 Axes>"
      ]
     },
     "metadata": {
      "needs_background": "light"
     },
     "output_type": "display_data"
    },
    {
     "data": {
      "text/plain": [
       "<Figure size 432x288 with 0 Axes>"
      ]
     },
     "metadata": {},
     "output_type": "display_data"
    }
   ],
   "source": [
    "# task 8: sampling distribution of the sample minimum\n",
    "sampling_distribution(song_tempos, 30, \"Minimum\")"
   ]
  },
  {
   "cell_type": "markdown",
   "metadata": {},
   "source": [
    "9. Compare your sampling distribution of the sample minimums to the population minimum. Is the sample minimum an unbiased or biased estimator of the population?"
   ]
  },
  {
   "cell_type": "markdown",
   "metadata": {},
   "source": [
    "10. Now let’s plot the sampling distribution of the sample variance with sample sizes of 30 songs. To do this, use the sampling_distribution() helper function.\n",
    "\n",
    "    Once you hit run, you should see a graph with the following title:\n",
    "\n",
    "    `Sampling Distribution of the Variance`\n",
    "    \n",
    "    `Mean of the Sample Variances: {Mean of the Sample Variances}`\n",
    "    \n",
    "    `Population Variance: {Population Variance}`"
   ]
  },
  {
   "cell_type": "code",
   "execution_count": 8,
   "metadata": {},
   "outputs": [
    {
     "data": {
      "image/png": "[encoded data removed]",
      "text/plain": [
       "<Figure size 432x288 with 1 Axes>"
      ]
     },
     "metadata": {
      "needs_background": "light"
     },
     "output_type": "display_data"
    },
    {
     "data": {
      "text/plain": [
       "<Figure size 432x288 with 0 Axes>"
      ]
     },
     "metadata": {},
     "output_type": "display_data"
    }
   ],
   "source": [
    "# task 10: sampling distribution of the sample variance\n",
    "sampling_distribution(song_tempos, 30, \"Variance\")"
   ]
  },
  {
   "cell_type": "markdown",
   "metadata": {},
   "source": [
    "11. Compare your sampling distribution of the sample variance to the population variance. Does the sample variance appear to be an unbiased or biased estimator of the population?\n",
    "\n",
    "    Click the hint for more information about sample variance."
   ]
  },
  {
   "cell_type": "markdown",
   "metadata": {},
   "source": [
    "12. Go to line 17 in helper_functions.py. You should see the following line of code:\n",
    "\n",
    "    `np.var(x)`\n",
    "\n",
    "    Change this to:\n",
    "\n",
    "    `np.var(x, ddof=1)`\n",
    "\n",
    "    Adding this ddof=1 parameter will divide our input by n-1 instead of n, therefore applying the sample variance formula.\n",
    "\n",
    "    After changing this line of code, run script.py. Does the sample variance appear to be an unbiased or biased estimator of the population?"
   ]
  },
  {
   "cell_type": "markdown",
   "metadata": {},
   "source": [
    "### Calculating Probabilities\n",
    "\n",
    "13. We have a good sense of some sample statistics now that we’ve investigated sampling distributions. Let’s take our analysis further by calculating probabilities.\n",
    "\n",
    "    First, calculate the population mean and population standard deviation of song_tempos. Save these values in two separate variables called population_mean and population_std."
   ]
  },
  {
   "cell_type": "code",
   "execution_count": 10,
   "metadata": {},
   "outputs": [
    {
     "data": {
      "text/plain": [
       "147.4740559035556"
      ]
     },
     "execution_count": 10,
     "metadata": {},
     "output_type": "execute_result"
    }
   ],
   "source": [
    "# task 13: calculate the population mean and standard deviation\n",
    "population_mean = np.mean(song_tempos)\n",
    "population_mean"
   ]
  },
  {
   "cell_type": "code",
   "execution_count": 11,
   "metadata": {},
   "outputs": [
    {
     "data": {
      "text/plain": [
       "23.8443414956797"
      ]
     },
     "execution_count": 11,
     "metadata": {},
     "output_type": "execute_result"
    }
   ],
   "source": [
    "population_std = np.std(song_tempos)\n",
    "population_std"
   ]
  },
  {
   "cell_type": "markdown",
   "metadata": {},
   "source": [
    "14. Use population_mean and population_std to calculate the standard error of the sampling distribution of the sample mean with a sample size of 30.\n",
    "\n",
    "    Save this value in a variable called standard_error."
   ]
  },
  {
   "cell_type": "code",
   "execution_count": 12,
   "metadata": {},
   "outputs": [
    {
     "data": {
      "text/plain": [
       "4.353361235346748"
      ]
     },
     "execution_count": 12,
     "metadata": {},
     "output_type": "execute_result"
    }
   ],
   "source": [
    "# task 14: calculate the standard error\n",
    "standard_error = population_std/(30**.5)\n",
    "standard_error"
   ]
  },
  {
   "cell_type": "markdown",
   "metadata": {},
   "source": [
    "15. You are afraid that if the average tempo of the songs you randomly select is less than 140bpm that your party will not be enjoyable.\n",
    "\n",
    "    Using population_mean and standard_error in a CDF, calculate the probability that the sample mean of 30 selected songs is less than 140bpm."
   ]
  },
  {
   "cell_type": "code",
   "execution_count": 13,
   "metadata": {},
   "outputs": [
    {
     "name": "stdout",
     "output_type": "stream",
     "text": [
      "0.04300355015962668\n"
     ]
    }
   ],
   "source": [
    "# task 15: calculate the probability of observing an average tempo of 140bpm or lower from a sample of 30 songs\n",
    "print(stats.norm.cdf(140, population_mean, standard_error))"
   ]
  },
  {
   "cell_type": "markdown",
   "metadata": {},
   "source": [
    "16. You know the party will be truly epic if the randomly sampled songs have an average tempo of greater than 150bpm.\n",
    "\n",
    "    Using population_mean and standard_error in a CDF, calculate the probability that the sample mean of 30 selected songs is GREATER than 150bpm.\n",
    "\n",
    "    Remember to print your result into the output terminal.\n",
    "\n",
    "    Does this probability make you feel confident about the party?"
   ]
  },
  {
   "cell_type": "code",
   "execution_count": 14,
   "metadata": {},
   "outputs": [
    {
     "name": "stdout",
     "output_type": "stream",
     "text": [
      "0.28088028101807083\n"
     ]
    }
   ],
   "source": [
    "# task 16: calculate the probability of observing an average tempo of 150bpm or higher from a sample of 30 songs\n",
    "print(1-stats.norm.cdf(150, population_mean, standard_error))"
   ]
  }
 ],
 "metadata": {
  "interpreter": {
   "hash": "51ba172a9db2ba9bd6569a8a7361d34beb499103f4f240382399ffb78e49dc3f"
  },
  "kernelspec": {
   "display_name": "Python 3.9.7 ('base')",
   "language": "python",
   "name": "python3"
  },
  "language_info": {
   "codemirror_mode": {
    "name": "ipython",
    "version": 3
   },
   "file_extension": ".py",
   "mimetype": "text/x-python",
   "name": "python",
   "nbconvert_exporter": "python",
   "pygments_lexer": "ipython3",
   "version": "3.9.7"
  },
  "orig_nbformat": 4
 },
 "nbformat": 4,
 "nbformat_minor": 2
}
